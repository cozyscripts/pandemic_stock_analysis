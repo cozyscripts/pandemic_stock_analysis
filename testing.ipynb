{
 "cells": [
  {
   "cell_type": "code",
   "execution_count": 4,
   "metadata": {},
   "outputs": [],
   "source": [
    "# Anything in this notebook will be to test out Numpy from the SciPy and NumPy book"
   ]
  },
  {
   "cell_type": "markdown",
   "metadata": {},
   "source": [
    "# Chapter 2.1 the actual start of the book\n",
    "## NumPy Arrays"
   ]
  },
  {
   "cell_type": "markdown",
   "metadata": {},
   "source": [
    "Usually for operating on items in a list or dictionary\n",
    "Python does this with iterative loops which is inefficient in Python. \n",
    "\n",
    "NumPy lets us overcome this by providing a data storage object called **ndarray**.\n",
    "\n",
    "The **ndarray** is similar to lists but rather than being highly flexible by storing different types of objects in one list, ONLY THE SAME TYPE OF ELEMENT can be stored in each column. (Normal Python lists can contain anything, strings, dataframes, lists, integers, floats) Despite **ndarray** being restricted to just one datatype, it wins hands down when it comes to operation times. \n",
    "\n",
    "We're going to time the commands with %timeit a Python 'magic' command which outputs the speed/time of the command run"
   ]
  },
  {
   "cell_type": "code",
   "execution_count": 2,
   "metadata": {},
   "outputs": [],
   "source": [
    "import numpy as np\n",
    "\n",
    "# Create an array with 10^7 elements\n",
    "arr = np.arange(1e7)\n",
    "\n",
    "# Converting ndarray to list\n",
    "larr = arr.tolist()\n",
    "\n",
    "# Lists cannot be default broadcast,\n",
    "# so a function is coded to emulate\n",
    "# what an ndarray can do."
   ]
  },
  {
   "cell_type": "code",
   "execution_count": 6,
   "metadata": {},
   "outputs": [],
   "source": [
    "def list_times(alist, scalar):\n",
    "    for i, val in enumerate(alist):\n",
    "        alist[i] = val * scalar\n",
    "    return alist"
   ]
  },
  {
   "cell_type": "code",
   "execution_count": 8,
   "metadata": {},
   "outputs": [
    {
     "output_type": "stream",
     "name": "stdout",
     "text": "50 ms ± 1.33 ms per loop (mean ± std. dev. of 7 runs, 10 loops each)\n"
    }
   ],
   "source": [
    "# Using IPython's magic timeit command\n",
    "%timeit arr * 1.1"
   ]
  },
  {
   "cell_type": "code",
   "execution_count": 10,
   "metadata": {},
   "outputs": [
    {
     "output_type": "stream",
     "name": "stdout",
     "text": "1.85 s ± 68.8 ms per loop (mean ± std. dev. of 7 runs, 1 loop each)\n"
    }
   ],
   "source": [
    "%timeit list_times(larr, 1.1)"
   ]
  },
  {
   "cell_type": "markdown",
   "metadata": {},
   "source": [
    "the ndarray operation (first one) is ~25 times faster in the loop. If we need to do linear alegbra. We will use the **matrix** object. The usual behavior is similar to the R matrix"
   ]
  },
  {
   "cell_type": "code",
   "execution_count": 4,
   "metadata": {},
   "outputs": [],
   "source": [
    "# Creating a 3D numpy array\n",
    "arr = np.zeros((3,3,3))"
   ]
  },
  {
   "cell_type": "code",
   "execution_count": 7,
   "metadata": {},
   "outputs": [],
   "source": [
    "# Trying to convert array to a matrix, which will not work\n",
    "#mat = np.matrix(arr)\n",
    "# this results in a Value Error: shape too large to be a matrix\n",
    "# If you're working with matrices, keep this in mind"
   ]
  },
  {
   "cell_type": "markdown",
   "metadata": {},
   "source": [
    "# 2.1.1 Array Creation and Data Typing\n",
    "## Many ways to crete an array in NumPy, we will discuss the most useful ones"
   ]
  },
  {
   "cell_type": "code",
   "execution_count": 13,
   "metadata": {},
   "outputs": [
    {
     "output_type": "execute_result",
     "data": {
      "text/plain": "array([1, 2, 3])"
     },
     "metadata": {},
     "execution_count": 13
    }
   ],
   "source": [
    "# First we make a list and then wrap it with the np.array() function\n",
    "alist = [1, 2, 3]\n",
    "arr = np.array(alist)\n",
    "arr"
   ]
  },
  {
   "cell_type": "code",
   "execution_count": 14,
   "metadata": {},
   "outputs": [
    {
     "output_type": "execute_result",
     "data": {
      "text/plain": "array([0., 0., 0., 0., 0.])"
     },
     "metadata": {},
     "execution_count": 14
    }
   ],
   "source": [
    "# Creating an array of zeros with five elements\n",
    "arr = np.zeros(5)\n",
    "arr"
   ]
  },
  {
   "cell_type": "code",
   "execution_count": 15,
   "metadata": {},
   "outputs": [
    {
     "output_type": "execute_result",
     "data": {
      "text/plain": "array([ 0,  1,  2,  3,  4,  5,  6,  7,  8,  9, 10, 11, 12, 13, 14, 15, 16,\n       17, 18, 19, 20, 21, 22, 23, 24, 25, 26, 27, 28, 29, 30, 31, 32, 33,\n       34, 35, 36, 37, 38, 39, 40, 41, 42, 43, 44, 45, 46, 47, 48, 49, 50,\n       51, 52, 53, 54, 55, 56, 57, 58, 59, 60, 61, 62, 63, 64, 65, 66, 67,\n       68, 69, 70, 71, 72, 73, 74, 75, 76, 77, 78, 79, 80, 81, 82, 83, 84,\n       85, 86, 87, 88, 89, 90, 91, 92, 93, 94, 95, 96, 97, 98, 99])"
     },
     "metadata": {},
     "execution_count": 15
    }
   ],
   "source": [
    "# What if we want to create an array going from 0 to 100?\n",
    "arr = np.arange(100)\n",
    "arr"
   ]
  },
  {
   "cell_type": "code",
   "execution_count": 17,
   "metadata": {},
   "outputs": [
    {
     "output_type": "execute_result",
     "data": {
      "text/plain": "array([10, 11, 12, 13, 14, 15, 16, 17, 18, 19, 20, 21, 22, 23, 24, 25, 26,\n       27, 28, 29, 30, 31, 32, 33, 34, 35, 36, 37, 38, 39, 40, 41, 42, 43,\n       44, 45, 46, 47, 48, 49, 50, 51, 52, 53, 54, 55, 56, 57, 58, 59, 60,\n       61, 62, 63, 64, 65, 66, 67, 68, 69, 70, 71, 72, 73, 74, 75, 76, 77,\n       78, 79, 80, 81, 82, 83, 84, 85, 86, 87, 88, 89, 90, 91, 92, 93, 94,\n       95, 96, 97, 98, 99])"
     },
     "metadata": {},
     "execution_count": 17
    }
   ],
   "source": [
    "# Or 10 to 100?\n",
    "arr = np.arange(10, 100)\n",
    "arr"
   ]
  },
  {
   "cell_type": "code",
   "execution_count": 20,
   "metadata": {},
   "outputs": [
    {
     "output_type": "execute_result",
     "data": {
      "text/plain": "array([0.        , 0.01010101, 0.02020202, 0.03030303, 0.04040404,\n       0.05050505, 0.06060606, 0.07070707, 0.08080808, 0.09090909,\n       0.1010101 , 0.11111111, 0.12121212, 0.13131313, 0.14141414,\n       0.15151515, 0.16161616, 0.17171717, 0.18181818, 0.19191919,\n       0.2020202 , 0.21212121, 0.22222222, 0.23232323, 0.24242424,\n       0.25252525, 0.26262626, 0.27272727, 0.28282828, 0.29292929,\n       0.3030303 , 0.31313131, 0.32323232, 0.33333333, 0.34343434,\n       0.35353535, 0.36363636, 0.37373737, 0.38383838, 0.39393939,\n       0.4040404 , 0.41414141, 0.42424242, 0.43434343, 0.44444444,\n       0.45454545, 0.46464646, 0.47474747, 0.48484848, 0.49494949,\n       0.50505051, 0.51515152, 0.52525253, 0.53535354, 0.54545455,\n       0.55555556, 0.56565657, 0.57575758, 0.58585859, 0.5959596 ,\n       0.60606061, 0.61616162, 0.62626263, 0.63636364, 0.64646465,\n       0.65656566, 0.66666667, 0.67676768, 0.68686869, 0.6969697 ,\n       0.70707071, 0.71717172, 0.72727273, 0.73737374, 0.74747475,\n       0.75757576, 0.76767677, 0.77777778, 0.78787879, 0.7979798 ,\n       0.80808081, 0.81818182, 0.82828283, 0.83838384, 0.84848485,\n       0.85858586, 0.86868687, 0.87878788, 0.88888889, 0.8989899 ,\n       0.90909091, 0.91919192, 0.92929293, 0.93939394, 0.94949495,\n       0.95959596, 0.96969697, 0.97979798, 0.98989899, 1.        ])"
     },
     "metadata": {},
     "execution_count": 20
    }
   ],
   "source": [
    "# If you want 100 steps(values) from 0 to 1...\n",
    "arr = np.linspace(0, 1, 100)\n",
    "arr"
   ]
  },
  {
   "cell_type": "code",
   "execution_count": 23,
   "metadata": {},
   "outputs": [
    {
     "output_type": "execute_result",
     "data": {
      "text/plain": "array([ 1.        ,  1.02353102,  1.04761575,  1.07226722,  1.09749877,\n        1.12332403,  1.149757  ,  1.17681195,  1.20450354,  1.23284674,\n        1.26185688,  1.29154967,  1.32194115,  1.35304777,  1.38488637,\n        1.41747416,  1.45082878,  1.48496826,  1.51991108,  1.55567614,\n        1.59228279,  1.62975083,  1.66810054,  1.70735265,  1.7475284 ,\n        1.78864953,  1.83073828,  1.87381742,  1.91791026,  1.96304065,\n        2.009233  ,  2.05651231,  2.10490414,  2.15443469,  2.20513074,\n        2.25701972,  2.3101297 ,  2.36448941,  2.42012826,  2.47707636,\n        2.53536449,  2.59502421,  2.65608778,  2.71858824,  2.7825594 ,\n        2.84803587,  2.91505306,  2.98364724,  3.05385551,  3.12571585,\n        3.19926714,  3.27454916,  3.35160265,  3.43046929,  3.51119173,\n        3.59381366,  3.67837977,  3.76493581,  3.85352859,  3.94420606,\n        4.03701726,  4.1320124 ,  4.22924287,  4.32876128,  4.43062146,\n        4.53487851,  4.64158883,  4.75081016,  4.86260158,  4.97702356,\n        5.09413801,  5.21400829,  5.33669923,  5.46227722,  5.59081018,\n        5.72236766,  5.85702082,  5.9948425 ,  6.13590727,  6.28029144,\n        6.42807312,  6.57933225,  6.73415066,  6.8926121 ,  7.05480231,\n        7.22080902,  7.39072203,  7.56463328,  7.74263683,  7.92482898,\n        8.11130831,  8.30217568,  8.49753436,  8.69749003,  8.90215085,\n        9.11162756,  9.32603347,  9.54548457,  9.77009957, 10.        ])"
     },
     "metadata": {},
     "execution_count": 23
    }
   ],
   "source": [
    "# Of if you want to generate an array from 1 to 10\n",
    "# in log10 space in 100 steps...\n",
    "arr = np.logspace(0, 1, 100, base = 10.0)\n",
    "arr"
   ]
  },
  {
   "cell_type": "code",
   "execution_count": 24,
   "metadata": {},
   "outputs": [
    {
     "output_type": "execute_result",
     "data": {
      "text/plain": "array([[0., 0., 0., 0., 0.],\n       [0., 0., 0., 0., 0.],\n       [0., 0., 0., 0., 0.],\n       [0., 0., 0., 0., 0.],\n       [0., 0., 0., 0., 0.]])"
     },
     "metadata": {},
     "execution_count": 24
    }
   ],
   "source": [
    "# Creating a 5x5 array of zeros (an image)\n",
    "image = np.zeros((5,5))\n",
    "image"
   ]
  },
  {
   "cell_type": "code",
   "execution_count": 25,
   "metadata": {},
   "outputs": [
    {
     "output_type": "execute_result",
     "data": {
      "text/plain": "array([[[1, 1, 1, 1, 1],\n        [1, 1, 1, 1, 1],\n        [1, 1, 1, 1, 1],\n        [1, 1, 1, 1, 1],\n        [1, 1, 1, 1, 1]],\n\n       [[1, 1, 1, 1, 1],\n        [1, 1, 1, 1, 1],\n        [1, 1, 1, 1, 1],\n        [1, 1, 1, 1, 1],\n        [1, 1, 1, 1, 1]],\n\n       [[1, 1, 1, 1, 1],\n        [1, 1, 1, 1, 1],\n        [1, 1, 1, 1, 1],\n        [1, 1, 1, 1, 1],\n        [1, 1, 1, 1, 1]],\n\n       [[1, 1, 1, 1, 1],\n        [1, 1, 1, 1, 1],\n        [1, 1, 1, 1, 1],\n        [1, 1, 1, 1, 1],\n        [1, 1, 1, 1, 1]],\n\n       [[1, 1, 1, 1, 1],\n        [1, 1, 1, 1, 1],\n        [1, 1, 1, 1, 1],\n        [1, 1, 1, 1, 1],\n        [1, 1, 1, 1, 1]]])"
     },
     "metadata": {},
     "execution_count": 25
    }
   ],
   "source": [
    "# Creating a 5x5x5 cube of 1's\n",
    "# The astype() method sets the array with integer elements\n",
    "cube = np.zeros((5, 5, 5)).astype(int) + 1\n",
    "cube"
   ]
  },
  {
   "cell_type": "code",
   "execution_count": 26,
   "metadata": {},
   "outputs": [
    {
     "output_type": "execute_result",
     "data": {
      "text/plain": "array([[[1., 1., 1., 1., 1.],\n        [1., 1., 1., 1., 1.],\n        [1., 1., 1., 1., 1.],\n        [1., 1., 1., 1., 1.],\n        [1., 1., 1., 1., 1.]],\n\n       [[1., 1., 1., 1., 1.],\n        [1., 1., 1., 1., 1.],\n        [1., 1., 1., 1., 1.],\n        [1., 1., 1., 1., 1.],\n        [1., 1., 1., 1., 1.]],\n\n       [[1., 1., 1., 1., 1.],\n        [1., 1., 1., 1., 1.],\n        [1., 1., 1., 1., 1.],\n        [1., 1., 1., 1., 1.],\n        [1., 1., 1., 1., 1.]],\n\n       [[1., 1., 1., 1., 1.],\n        [1., 1., 1., 1., 1.],\n        [1., 1., 1., 1., 1.],\n        [1., 1., 1., 1., 1.],\n        [1., 1., 1., 1., 1.]],\n\n       [[1., 1., 1., 1., 1.],\n        [1., 1., 1., 1., 1.],\n        [1., 1., 1., 1., 1.],\n        [1., 1., 1., 1., 1.],\n        [1., 1., 1., 1., 1.]]], dtype=float16)"
     },
     "metadata": {},
     "execution_count": 26
    }
   ],
   "source": [
    "# Or even simpler with 16-bit floating-point precision...\n",
    "cube = np.ones((5, 5, 5)).astype(np.float16)\n",
    "cube"
   ]
  },
  {
   "cell_type": "code",
   "execution_count": null,
   "metadata": {},
   "outputs": [],
   "source": [
    "# Numpy test"
   ]
  }
 ],
 "metadata": {
  "kernelspec": {
   "display_name": "Python 3",
   "language": "python",
   "name": "python3"
  },
  "language_info": {
   "codemirror_mode": {
    "name": "ipython",
    "version": 3
   },
   "file_extension": ".py",
   "mimetype": "text/x-python",
   "name": "python",
   "nbconvert_exporter": "python",
   "pygments_lexer": "ipython3",
   "version": "3.7.4-final"
  },
  "varInspector": {
   "cols": {
    "lenName": 16,
    "lenType": 16,
    "lenVar": 40
   },
   "kernels_config": {
    "python": {
     "delete_cmd_postfix": "",
     "delete_cmd_prefix": "del ",
     "library": "var_list.py",
     "varRefreshCmd": "print(var_dic_list())"
    },
    "r": {
     "delete_cmd_postfix": ") ",
     "delete_cmd_prefix": "rm(",
     "library": "var_list.r",
     "varRefreshCmd": "cat(var_dic_list()) "
    }
   },
   "types_to_exclude": [
    "module",
    "function",
    "builtin_function_or_method",
    "instance",
    "_Feature"
   ],
   "window_display": false
  }
 },
 "nbformat": 4,
 "nbformat_minor": 4
}