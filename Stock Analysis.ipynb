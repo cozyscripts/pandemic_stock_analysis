{
 "cells": [
  {
   "cell_type": "code",
   "execution_count": 4,
   "metadata": {},
   "outputs": [],
   "source": [
    "import pandas as pd # Data Manipulation\n",
    "import matplotlib.pyplot as plt # Data Visualization\n",
    "import seaborn as sns # Prettier Data Visualization\n",
    "import numpy as np # Numerical computations\n",
    "import pandas_datareader as pdr # One way to find stocks data/ Needs to be installed\n",
    "from scipy.stats import skew, kurtosis # Calculating stock skew/kurtosis\n",
    "import warnings\n",
    "warnings.simplefilter(action = 'ignore', category = FutureWarning)"
   ]
  },
  {
   "cell_type": "code",
   "execution_count": 6,
   "metadata": {},
   "outputs": [],
   "source": [
    "stocks = ['BJ', 'NYMTM', 'AAL', 'DAL']\n",
    "# Bj's Wholesale, New York Mortgage, American Airlines, Delta Airlines\n",
    "\n",
    "indexes = ['^N225', 'COMP', 'DJT', 'SPX']\n",
    "# Japan's Nikkei Index, Nasdaq, Dow Jones Transportation, S&P500"
   ]
  },
  {
   "cell_type": "code",
   "execution_count": 24,
   "metadata": {},
   "outputs": [],
   "source": [
    "# Let's test out Japan's Nikkei Index stock return\n",
    "start = '2000-01-01'\n",
    "end = '2019-12-31'\n",
    "\n",
    "n225 = pdr.DataReader(indexes[0], data_source = 'yahoo', start = start, end = end)"
   ]
  },
  {
   "cell_type": "code",
   "execution_count": 25,
   "metadata": {},
   "outputs": [
    {
     "data": {
      "text/html": [
       "<div>\n",
       "<style scoped>\n",
       "    .dataframe tbody tr th:only-of-type {\n",
       "        vertical-align: middle;\n",
       "    }\n",
       "\n",
       "    .dataframe tbody tr th {\n",
       "        vertical-align: top;\n",
       "    }\n",
       "\n",
       "    .dataframe thead th {\n",
       "        text-align: right;\n",
       "    }\n",
       "</style>\n",
       "<table border=\"1\" class=\"dataframe\">\n",
       "  <thead>\n",
       "    <tr style=\"text-align: right;\">\n",
       "      <th></th>\n",
       "      <th>High</th>\n",
       "      <th>Low</th>\n",
       "      <th>Open</th>\n",
       "      <th>Close</th>\n",
       "      <th>Volume</th>\n",
       "      <th>Adj Close</th>\n",
       "    </tr>\n",
       "    <tr>\n",
       "      <th>Date</th>\n",
       "      <th></th>\n",
       "      <th></th>\n",
       "      <th></th>\n",
       "      <th></th>\n",
       "      <th></th>\n",
       "      <th></th>\n",
       "    </tr>\n",
       "  </thead>\n",
       "  <tbody>\n",
       "    <tr>\n",
       "      <th>2000-01-04</th>\n",
       "      <td>19187.609375</td>\n",
       "      <td>18937.449219</td>\n",
       "      <td>18937.449219</td>\n",
       "      <td>19002.859375</td>\n",
       "      <td>0.0</td>\n",
       "      <td>19002.859375</td>\n",
       "    </tr>\n",
       "    <tr>\n",
       "      <th>2000-01-05</th>\n",
       "      <td>19003.509766</td>\n",
       "      <td>18221.820312</td>\n",
       "      <td>19003.509766</td>\n",
       "      <td>18542.550781</td>\n",
       "      <td>0.0</td>\n",
       "      <td>18542.550781</td>\n",
       "    </tr>\n",
       "    <tr>\n",
       "      <th>2000-01-06</th>\n",
       "      <td>18582.740234</td>\n",
       "      <td>18168.269531</td>\n",
       "      <td>18574.009766</td>\n",
       "      <td>18168.269531</td>\n",
       "      <td>0.0</td>\n",
       "      <td>18168.269531</td>\n",
       "    </tr>\n",
       "    <tr>\n",
       "      <th>2000-01-07</th>\n",
       "      <td>18285.730469</td>\n",
       "      <td>18068.099609</td>\n",
       "      <td>18194.050781</td>\n",
       "      <td>18193.410156</td>\n",
       "      <td>0.0</td>\n",
       "      <td>18193.410156</td>\n",
       "    </tr>\n",
       "    <tr>\n",
       "      <th>2000-01-11</th>\n",
       "      <td>18887.560547</td>\n",
       "      <td>18246.099609</td>\n",
       "      <td>18246.099609</td>\n",
       "      <td>18850.919922</td>\n",
       "      <td>0.0</td>\n",
       "      <td>18850.919922</td>\n",
       "    </tr>\n",
       "  </tbody>\n",
       "</table>\n",
       "</div>"
      ],
      "text/plain": [
       "                    High           Low          Open         Close  Volume  \\\n",
       "Date                                                                         \n",
       "2000-01-04  19187.609375  18937.449219  18937.449219  19002.859375     0.0   \n",
       "2000-01-05  19003.509766  18221.820312  19003.509766  18542.550781     0.0   \n",
       "2000-01-06  18582.740234  18168.269531  18574.009766  18168.269531     0.0   \n",
       "2000-01-07  18285.730469  18068.099609  18194.050781  18193.410156     0.0   \n",
       "2000-01-11  18887.560547  18246.099609  18246.099609  18850.919922     0.0   \n",
       "\n",
       "               Adj Close  \n",
       "Date                      \n",
       "2000-01-04  19002.859375  \n",
       "2000-01-05  18542.550781  \n",
       "2000-01-06  18168.269531  \n",
       "2000-01-07  18193.410156  \n",
       "2000-01-11  18850.919922  "
      ]
     },
     "execution_count": 25,
     "metadata": {},
     "output_type": "execute_result"
    }
   ],
   "source": [
    "n225.describe()\n",
    "n225.head()"
   ]
  },
  {
   "cell_type": "code",
   "execution_count": 38,
   "metadata": {},
   "outputs": [],
   "source": [
    "# Conversion from JPN requires multiplying by value from Google pulled 4/2 11pm EST\n",
    "n225['Price_USD'] = n225['Adj Close'].map(lambda x: x * 0.0093)"
   ]
  },
  {
   "cell_type": "code",
   "execution_count": 39,
   "metadata": {},
   "outputs": [],
   "source": [
    "# The actual price is the Adjusted Close on that day\n",
    "price = n225['Price_USD']\n",
    "\n",
    "# We're going to use the log of price and difference for returns\n",
    "ret = np.log(price).diff()\n",
    "# Also drop NA values\n",
    "ret = ret.dropna()"
   ]
  },
  {
   "cell_type": "code",
   "execution_count": 41,
   "metadata": {},
   "outputs": [
    {
     "data": {
      "image/png": "[encoded data removed]",
      "text/plain": [
       "<Figure size 432x288 with 1 Axes>"
      ]
     },
     "metadata": {},
     "output_type": "display_data"
    }
   ],
   "source": [
    "sns.set(style = 'darkgrid')\n",
    "ax = sns.lineplot(x = n225.index, y = price, data = n225, color = 'purple')\n",
    "ax.set(xlabel = \"Year\", ylabel = \"Price (USD $)\")\n",
    "plt.show()"
   ]
  },
  {
   "cell_type": "markdown",
   "metadata": {},
   "source": [
    "In 2004 and 2011 there were big Earthquakes in Japan. We can't really see the effect of these events in this graph unless we looked just at that year"
   ]
  },
  {
   "cell_type": "code",
   "execution_count": 34,
   "metadata": {},
   "outputs": [
    {
     "data": {
      "text/plain": [
       "6.510262461812976"
      ]
     },
     "execution_count": 34,
     "metadata": {},
     "output_type": "execute_result"
    }
   ],
   "source": [
    "# Let's do some simple stock stats for Returns\n",
    "ret.mean() # Avg\n",
    "ret.var() # Return Variance\n",
    "ret.std() # Standard Deviation\n",
    "skew(ret) # Skewness from SciPy\n",
    "kurtosis(ret) # Kurtosis from SciPy"
   ]
  },
  {
   "cell_type": "markdown",
   "metadata": {},
   "source": [
    "Next, we will plot the auto-correlation of the returns with the previous lags and see if there is any significant correlation that the returns have with the previous values."
   ]
  },
  {
   "cell_type": "code",
   "execution_count": 35,
   "metadata": {},
   "outputs": [
    {
     "data": {
      "image/png": "[encoded data removed]",
      "text/plain": [
       "<Figure size 432x288 with 1 Axes>"
      ]
     },
     "metadata": {},
     "output_type": "display_data"
    }
   ],
   "source": [
    "auto_corrplot = plt.acorr(ret, maxlags = 15)\n",
    "plt.show(auto_corrplot)"
   ]
  },
  {
   "cell_type": "code",
   "execution_count": null,
   "metadata": {},
   "outputs": [],
   "source": []
  }
 ],
 "metadata": {
  "kernelspec": {
   "display_name": "Python 3",
   "language": "python",
   "name": "python3"
  },
  "language_info": {
   "codemirror_mode": {
    "name": "ipython",
    "version": 3
   },
   "file_extension": ".py",
   "mimetype": "text/x-python",
   "name": "python",
   "nbconvert_exporter": "python",
   "pygments_lexer": "ipython3",
   "version": "3.7.4-final"
  }
 },
 "nbformat": 4,
 "nbformat_minor": 4
}