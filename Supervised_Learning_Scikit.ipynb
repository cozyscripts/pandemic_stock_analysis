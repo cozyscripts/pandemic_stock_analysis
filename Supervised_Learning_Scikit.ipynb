{
 "cells": [
  {
   "cell_type": "markdown",
   "metadata": {},
   "source": [
    "# Supervised Learning\n",
    "\n",
    "* Giving computer the ability to learn to make decisions from data\n",
    "* without being explicitly programmed\n",
    "\n",
    "Examples:\n",
    "\n",
    "1. Learning to predict whether an email is spam or not\n",
    "2. Clustering wikipedia entries into different categories\n",
    "\n",
    "Two Different Types of Learning:\n",
    "\n",
    "* Supervised Learning: Uses labeled data\n",
    "* Unsupervised Learning: Uses unlabeled data\n"
   ]
  },
  {
   "cell_type": "markdown",
   "metadata": {},
   "source": [
    "### Unsupervised learning\n",
    "* Uncovering hidden patterns from unlabeled data\n",
    "Example: \n",
    ">* Grouping customers into distinct categories (Clustering)\n",
    "\n",
    "### Reinforcement learning\n",
    "* Software agents interact with an environment\n",
    ">* Learn how to optimize their behavior\n",
    ">* Given a system of rewards and punishments\n",
    ">* Draws inspirtation from behavioral psychology\n",
    "\n",
    "* Applications\n",
    ">* Economics \n",
    ">* Genetics\n",
    ">* Game playing\n",
    "\n",
    "\n"
   ]
  },
  {
   "cell_type": "code",
   "execution_count": null,
   "metadata": {},
   "outputs": [],
   "source": []
  }
 ],
 "metadata": {
  "language_info": {
   "codemirror_mode": {
    "name": "ipython",
    "version": 3
   },
   "file_extension": ".py",
   "mimetype": "text/x-python",
   "name": "python",
   "nbconvert_exporter": "python",
   "pygments_lexer": "ipython3",
   "version": "3.7.4-final"
  },
  "orig_nbformat": 2,
  "kernelspec": {
   "name": "python37464bitbdf00aa1650a4cceaf09cbecb30bc576",
   "display_name": "Python 3.7.4 64-bit"
  }
 },
 "nbformat": 4,
 "nbformat_minor": 2
}