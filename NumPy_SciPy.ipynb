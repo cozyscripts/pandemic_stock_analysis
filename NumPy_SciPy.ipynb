{
 "cells": [
  {
   "cell_type": "code",
   "execution_count": 4,
   "metadata": {},
   "outputs": [],
   "source": [
    "# Anything in this notebook will be to test out Numpy from the SciPy and NumPy book"
   ]
  },
  {
   "cell_type": "markdown",
   "metadata": {},
   "source": [
    "# Chapter 2.1 the actual start of the book\n",
    "## NumPy Arrays"
   ]
  },
  {
   "cell_type": "markdown",
   "metadata": {},
   "source": [
    "Usually for operating on items in a list or dictionary\n",
    "Python does this with iterative loops which is inefficient in Python. \n",
    "\n",
    "NumPy lets us overcome this by providing a data storage object called **ndarray**.\n",
    "\n",
    "The **ndarray** is similar to lists but rather than being highly flexible by storing different types of objects in one list, ONLY THE SAME TYPE OF ELEMENT can be stored in each column. (Normal Python lists can contain anything, strings, dataframes, lists, integers, floats) Despite **ndarray** being restricted to just one datatype, it wins hands down when it comes to operation times. \n",
    "\n",
    "We're going to time the commands with %timeit a Python 'magic' command which outputs the speed/time of the command run"
   ]
  },
  {
   "cell_type": "code",
   "execution_count": 1,
   "metadata": {},
   "outputs": [],
   "source": [
    "import numpy as np\n",
    "\n",
    "# Create an array with 10^7 elements\n",
    "arr = np.arange(1e7)\n",
    "\n",
    "# Converting ndarray to list\n",
    "larr = arr.tolist()\n",
    "\n",
    "# Lists cannot be default broadcast,\n",
    "# so a function is coded to emulate\n",
    "# what an ndarray can do."
   ]
  },
  {
   "cell_type": "code",
   "execution_count": 6,
   "metadata": {},
   "outputs": [],
   "source": [
    "def list_times(alist, scalar):\n",
    "    for i, val in enumerate(alist):\n",
    "        alist[i] = val * scalar\n",
    "    return alist"
   ]
  },
  {
   "cell_type": "code",
   "execution_count": 8,
   "metadata": {},
   "outputs": [
    {
     "output_type": "stream",
     "name": "stdout",
     "text": "50 ms ± 1.33 ms per loop (mean ± std. dev. of 7 runs, 10 loops each)\n"
    }
   ],
   "source": [
    "# Using IPython's magic timeit command\n",
    "%timeit arr * 1.1"
   ]
  },
  {
   "cell_type": "code",
   "execution_count": 10,
   "metadata": {},
   "outputs": [
    {
     "output_type": "stream",
     "name": "stdout",
     "text": "1.85 s ± 68.8 ms per loop (mean ± std. dev. of 7 runs, 1 loop each)\n"
    }
   ],
   "source": [
    "%timeit list_times(larr, 1.1)"
   ]
  },
  {
   "cell_type": "markdown",
   "metadata": {},
   "source": [
    "the ndarray operation (first one) is ~25 times faster in the loop. If we need to do linear alegbra. We will use the **matrix** object. The usual behavior is similar to the R matrix"
   ]
  },
  {
   "cell_type": "code",
   "execution_count": 4,
   "metadata": {},
   "outputs": [],
   "source": [
    "# Creating a 3D numpy array\n",
    "arr = np.zeros((3,3,3))"
   ]
  },
  {
   "cell_type": "code",
   "execution_count": 7,
   "metadata": {},
   "outputs": [],
   "source": [
    "# Trying to convert array to a matrix, which will not work\n",
    "#mat = np.matrix(arr)\n",
    "# this results in a Value Error: shape too large to be a matrix\n",
    "# If you're working with matrices, keep this in mind"
   ]
  },
  {
   "cell_type": "markdown",
   "metadata": {},
   "source": [
    "# 2.1.1 Array Creation and Data Typing\n",
    "## Many ways to crete an array in NumPy, we will discuss the most useful ones"
   ]
  },
  {
   "cell_type": "code",
   "execution_count": 13,
   "metadata": {},
   "outputs": [
    {
     "output_type": "execute_result",
     "data": {
      "text/plain": "array([1, 2, 3])"
     },
     "metadata": {},
     "execution_count": 13
    }
   ],
   "source": [
    "# First we make a list and then wrap it with the np.array() function\n",
    "alist = [1, 2, 3]\n",
    "arr = np.array(alist)\n",
    "arr"
   ]
  },
  {
   "cell_type": "code",
   "execution_count": 14,
   "metadata": {},
   "outputs": [
    {
     "output_type": "execute_result",
     "data": {
      "text/plain": "array([0., 0., 0., 0., 0.])"
     },
     "metadata": {},
     "execution_count": 14
    }
   ],
   "source": [
    "# Creating an array of zeros with five elements\n",
    "arr = np.zeros(5)\n",
    "arr"
   ]
  },
  {
   "cell_type": "code",
   "execution_count": 15,
   "metadata": {},
   "outputs": [
    {
     "output_type": "execute_result",
     "data": {
      "text/plain": "array([ 0,  1,  2,  3,  4,  5,  6,  7,  8,  9, 10, 11, 12, 13, 14, 15, 16,\n       17, 18, 19, 20, 21, 22, 23, 24, 25, 26, 27, 28, 29, 30, 31, 32, 33,\n       34, 35, 36, 37, 38, 39, 40, 41, 42, 43, 44, 45, 46, 47, 48, 49, 50,\n       51, 52, 53, 54, 55, 56, 57, 58, 59, 60, 61, 62, 63, 64, 65, 66, 67,\n       68, 69, 70, 71, 72, 73, 74, 75, 76, 77, 78, 79, 80, 81, 82, 83, 84,\n       85, 86, 87, 88, 89, 90, 91, 92, 93, 94, 95, 96, 97, 98, 99])"
     },
     "metadata": {},
     "execution_count": 15
    }
   ],
   "source": [
    "# What if we want to create an array going from 0 to 100?\n",
    "arr = np.arange(100)\n",
    "arr"
   ]
  },
  {
   "cell_type": "code",
   "execution_count": 17,
   "metadata": {},
   "outputs": [
    {
     "output_type": "execute_result",
     "data": {
      "text/plain": "array([10, 11, 12, 13, 14, 15, 16, 17, 18, 19, 20, 21, 22, 23, 24, 25, 26,\n       27, 28, 29, 30, 31, 32, 33, 34, 35, 36, 37, 38, 39, 40, 41, 42, 43,\n       44, 45, 46, 47, 48, 49, 50, 51, 52, 53, 54, 55, 56, 57, 58, 59, 60,\n       61, 62, 63, 64, 65, 66, 67, 68, 69, 70, 71, 72, 73, 74, 75, 76, 77,\n       78, 79, 80, 81, 82, 83, 84, 85, 86, 87, 88, 89, 90, 91, 92, 93, 94,\n       95, 96, 97, 98, 99])"
     },
     "metadata": {},
     "execution_count": 17
    }
   ],
   "source": [
    "# Or 10 to 100?\n",
    "arr = np.arange(10, 100)\n",
    "arr"
   ]
  },
  {
   "cell_type": "code",
   "execution_count": 20,
   "metadata": {},
   "outputs": [
    {
     "output_type": "execute_result",
     "data": {
      "text/plain": "array([0.        , 0.01010101, 0.02020202, 0.03030303, 0.04040404,\n       0.05050505, 0.06060606, 0.07070707, 0.08080808, 0.09090909,\n       0.1010101 , 0.11111111, 0.12121212, 0.13131313, 0.14141414,\n       0.15151515, 0.16161616, 0.17171717, 0.18181818, 0.19191919,\n       0.2020202 , 0.21212121, 0.22222222, 0.23232323, 0.24242424,\n       0.25252525, 0.26262626, 0.27272727, 0.28282828, 0.29292929,\n       0.3030303 , 0.31313131, 0.32323232, 0.33333333, 0.34343434,\n       0.35353535, 0.36363636, 0.37373737, 0.38383838, 0.39393939,\n       0.4040404 , 0.41414141, 0.42424242, 0.43434343, 0.44444444,\n       0.45454545, 0.46464646, 0.47474747, 0.48484848, 0.49494949,\n       0.50505051, 0.51515152, 0.52525253, 0.53535354, 0.54545455,\n       0.55555556, 0.56565657, 0.57575758, 0.58585859, 0.5959596 ,\n       0.60606061, 0.61616162, 0.62626263, 0.63636364, 0.64646465,\n       0.65656566, 0.66666667, 0.67676768, 0.68686869, 0.6969697 ,\n       0.70707071, 0.71717172, 0.72727273, 0.73737374, 0.74747475,\n       0.75757576, 0.76767677, 0.77777778, 0.78787879, 0.7979798 ,\n       0.80808081, 0.81818182, 0.82828283, 0.83838384, 0.84848485,\n       0.85858586, 0.86868687, 0.87878788, 0.88888889, 0.8989899 ,\n       0.90909091, 0.91919192, 0.92929293, 0.93939394, 0.94949495,\n       0.95959596, 0.96969697, 0.97979798, 0.98989899, 1.        ])"
     },
     "metadata": {},
     "execution_count": 20
    }
   ],
   "source": [
    "# If you want 100 steps(values) from 0 to 1...\n",
    "arr = np.linspace(0, 1, 100)\n",
    "arr"
   ]
  },
  {
   "cell_type": "code",
   "execution_count": 23,
   "metadata": {},
   "outputs": [
    {
     "output_type": "execute_result",
     "data": {
      "text/plain": "array([ 1.        ,  1.02353102,  1.04761575,  1.07226722,  1.09749877,\n        1.12332403,  1.149757  ,  1.17681195,  1.20450354,  1.23284674,\n        1.26185688,  1.29154967,  1.32194115,  1.35304777,  1.38488637,\n        1.41747416,  1.45082878,  1.48496826,  1.51991108,  1.55567614,\n        1.59228279,  1.62975083,  1.66810054,  1.70735265,  1.7475284 ,\n        1.78864953,  1.83073828,  1.87381742,  1.91791026,  1.96304065,\n        2.009233  ,  2.05651231,  2.10490414,  2.15443469,  2.20513074,\n        2.25701972,  2.3101297 ,  2.36448941,  2.42012826,  2.47707636,\n        2.53536449,  2.59502421,  2.65608778,  2.71858824,  2.7825594 ,\n        2.84803587,  2.91505306,  2.98364724,  3.05385551,  3.12571585,\n        3.19926714,  3.27454916,  3.35160265,  3.43046929,  3.51119173,\n        3.59381366,  3.67837977,  3.76493581,  3.85352859,  3.94420606,\n        4.03701726,  4.1320124 ,  4.22924287,  4.32876128,  4.43062146,\n        4.53487851,  4.64158883,  4.75081016,  4.86260158,  4.97702356,\n        5.09413801,  5.21400829,  5.33669923,  5.46227722,  5.59081018,\n        5.72236766,  5.85702082,  5.9948425 ,  6.13590727,  6.28029144,\n        6.42807312,  6.57933225,  6.73415066,  6.8926121 ,  7.05480231,\n        7.22080902,  7.39072203,  7.56463328,  7.74263683,  7.92482898,\n        8.11130831,  8.30217568,  8.49753436,  8.69749003,  8.90215085,\n        9.11162756,  9.32603347,  9.54548457,  9.77009957, 10.        ])"
     },
     "metadata": {},
     "execution_count": 23
    }
   ],
   "source": [
    "# Of if you want to generate an array from 1 to 10\n",
    "# in log10 space in 100 steps...\n",
    "arr = np.logspace(0, 1, 100, base = 10.0)\n",
    "arr"
   ]
  },
  {
   "cell_type": "code",
   "execution_count": 24,
   "metadata": {},
   "outputs": [
    {
     "output_type": "execute_result",
     "data": {
      "text/plain": "array([[0., 0., 0., 0., 0.],\n       [0., 0., 0., 0., 0.],\n       [0., 0., 0., 0., 0.],\n       [0., 0., 0., 0., 0.],\n       [0., 0., 0., 0., 0.]])"
     },
     "metadata": {},
     "execution_count": 24
    }
   ],
   "source": [
    "# Creating a 5x5 array of zeros (an image)\n",
    "image = np.zeros((5,5))\n",
    "image"
   ]
  },
  {
   "cell_type": "code",
   "execution_count": 25,
   "metadata": {},
   "outputs": [
    {
     "output_type": "execute_result",
     "data": {
      "text/plain": "array([[[1, 1, 1, 1, 1],\n        [1, 1, 1, 1, 1],\n        [1, 1, 1, 1, 1],\n        [1, 1, 1, 1, 1],\n        [1, 1, 1, 1, 1]],\n\n       [[1, 1, 1, 1, 1],\n        [1, 1, 1, 1, 1],\n        [1, 1, 1, 1, 1],\n        [1, 1, 1, 1, 1],\n        [1, 1, 1, 1, 1]],\n\n       [[1, 1, 1, 1, 1],\n        [1, 1, 1, 1, 1],\n        [1, 1, 1, 1, 1],\n        [1, 1, 1, 1, 1],\n        [1, 1, 1, 1, 1]],\n\n       [[1, 1, 1, 1, 1],\n        [1, 1, 1, 1, 1],\n        [1, 1, 1, 1, 1],\n        [1, 1, 1, 1, 1],\n        [1, 1, 1, 1, 1]],\n\n       [[1, 1, 1, 1, 1],\n        [1, 1, 1, 1, 1],\n        [1, 1, 1, 1, 1],\n        [1, 1, 1, 1, 1],\n        [1, 1, 1, 1, 1]]])"
     },
     "metadata": {},
     "execution_count": 25
    }
   ],
   "source": [
    "# Creating a 5x5x5 cube of 1's\n",
    "# The astype() method sets the array with integer elements\n",
    "cube = np.zeros((5, 5, 5)).astype(int) + 1\n",
    "cube"
   ]
  },
  {
   "cell_type": "code",
   "execution_count": 26,
   "metadata": {},
   "outputs": [
    {
     "output_type": "execute_result",
     "data": {
      "text/plain": "array([[[1., 1., 1., 1., 1.],\n        [1., 1., 1., 1., 1.],\n        [1., 1., 1., 1., 1.],\n        [1., 1., 1., 1., 1.],\n        [1., 1., 1., 1., 1.]],\n\n       [[1., 1., 1., 1., 1.],\n        [1., 1., 1., 1., 1.],\n        [1., 1., 1., 1., 1.],\n        [1., 1., 1., 1., 1.],\n        [1., 1., 1., 1., 1.]],\n\n       [[1., 1., 1., 1., 1.],\n        [1., 1., 1., 1., 1.],\n        [1., 1., 1., 1., 1.],\n        [1., 1., 1., 1., 1.],\n        [1., 1., 1., 1., 1.]],\n\n       [[1., 1., 1., 1., 1.],\n        [1., 1., 1., 1., 1.],\n        [1., 1., 1., 1., 1.],\n        [1., 1., 1., 1., 1.],\n        [1., 1., 1., 1., 1.]],\n\n       [[1., 1., 1., 1., 1.],\n        [1., 1., 1., 1., 1.],\n        [1., 1., 1., 1., 1.],\n        [1., 1., 1., 1., 1.],\n        [1., 1., 1., 1., 1.]]], dtype=float16)"
     },
     "metadata": {},
     "execution_count": 26
    }
   ],
   "source": [
    "# Or even simpler with 16-bit floating-point precision...\n",
    "cube = np.ones((5, 5, 5)).astype(np.float16)\n",
    "cube"
   ]
  },
  {
   "cell_type": "markdown",
   "metadata": {},
   "source": [
    "If you're using 64bit Python then the elements in the array use 64-bit precision. This precision takes a fair chunk of memory and is not always necessary. You can specify the bit depth when creating arrays by setting the data type parameter (dtype) to int, np.float16, np.float32, np.float64. Let's look at some examples:"
   ]
  },
  {
   "cell_type": "code",
   "execution_count": 9,
   "metadata": {},
   "outputs": [
    {
     "output_type": "execute_result",
     "data": {
      "text/plain": "104"
     },
     "metadata": {},
     "execution_count": 9
    }
   ],
   "source": [
    "# Array of zero integers\n",
    "arr = np.zeros(2, dtype = int) # Change this to the options specified above \n",
    "arr\n",
    "\n",
    "# Not part of the book but we can use sys to determine the size of the object\n",
    "import sys\n",
    "sys.getsizeof(arr)"
   ]
  },
  {
   "cell_type": "markdown",
   "metadata": {},
   "source": [
    "Now that we've created arrays we can reshape them in many other ways. If we have a 25 element array, we can make it a 5x5 array, or we could make a 3D array from a flat array"
   ]
  },
  {
   "cell_type": "code",
   "execution_count": 13,
   "metadata": {},
   "outputs": [
    {
     "output_type": "execute_result",
     "data": {
      "text/plain": "array([  0,   1,   2,   3,   4,   5,   6,   7,   8,   9,  10,  11,  12,\n        13,  14,  15,  16,  17,  18,  19,  20,  21,  22,  23,  24,  25,\n        26,  27,  28,  29,  30,  31,  32,  33,  34,  35,  36,  37,  38,\n        39,  40,  41,  42,  43,  44,  45,  46,  47,  48,  49,  50,  51,\n        52,  53,  54,  55,  56,  57,  58,  59,  60,  61,  62,  63,  64,\n        65,  66,  67,  68,  69,  70,  71,  72,  73,  74,  75,  76,  77,\n        78,  79,  80,  81,  82,  83,  84,  85,  86,  87,  88,  89,  90,\n        91,  92,  93,  94,  95,  96,  97,  98,  99, 100, 101, 102, 103,\n       104, 105, 106, 107, 108, 109, 110, 111, 112, 113, 114, 115, 116,\n       117, 118, 119, 120, 121, 122, 123, 124, 125, 126, 127, 128, 129,\n       130, 131, 132, 133, 134, 135, 136, 137, 138, 139, 140, 141, 142,\n       143, 144, 145, 146, 147, 148, 149, 150, 151, 152, 153, 154, 155,\n       156, 157, 158, 159, 160, 161, 162, 163, 164, 165, 166, 167, 168,\n       169, 170, 171, 172, 173, 174, 175, 176, 177, 178, 179, 180, 181,\n       182, 183, 184, 185, 186, 187, 188, 189, 190, 191, 192, 193, 194,\n       195, 196, 197, 198, 199, 200, 201, 202, 203, 204, 205, 206, 207,\n       208, 209, 210, 211, 212, 213, 214, 215, 216, 217, 218, 219, 220,\n       221, 222, 223, 224, 225, 226, 227, 228, 229, 230, 231, 232, 233,\n       234, 235, 236, 237, 238, 239, 240, 241, 242, 243, 244, 245, 246,\n       247, 248, 249, 250, 251, 252, 253, 254, 255, 256, 257, 258, 259,\n       260, 261, 262, 263, 264, 265, 266, 267, 268, 269, 270, 271, 272,\n       273, 274, 275, 276, 277, 278, 279, 280, 281, 282, 283, 284, 285,\n       286, 287, 288, 289, 290, 291, 292, 293, 294, 295, 296, 297, 298,\n       299, 300, 301, 302, 303, 304, 305, 306, 307, 308, 309, 310, 311,\n       312, 313, 314, 315, 316, 317, 318, 319, 320, 321, 322, 323, 324,\n       325, 326, 327, 328, 329, 330, 331, 332, 333, 334, 335, 336, 337,\n       338, 339, 340, 341, 342, 343, 344, 345, 346, 347, 348, 349, 350,\n       351, 352, 353, 354, 355, 356, 357, 358, 359, 360, 361, 362, 363,\n       364, 365, 366, 367, 368, 369, 370, 371, 372, 373, 374, 375, 376,\n       377, 378, 379, 380, 381, 382, 383, 384, 385, 386, 387, 388, 389,\n       390, 391, 392, 393, 394, 395, 396, 397, 398, 399, 400, 401, 402,\n       403, 404, 405, 406, 407, 408, 409, 410, 411, 412, 413, 414, 415,\n       416, 417, 418, 419, 420, 421, 422, 423, 424, 425, 426, 427, 428,\n       429, 430, 431, 432, 433, 434, 435, 436, 437, 438, 439, 440, 441,\n       442, 443, 444, 445, 446, 447, 448, 449, 450, 451, 452, 453, 454,\n       455, 456, 457, 458, 459, 460, 461, 462, 463, 464, 465, 466, 467,\n       468, 469, 470, 471, 472, 473, 474, 475, 476, 477, 478, 479, 480,\n       481, 482, 483, 484, 485, 486, 487, 488, 489, 490, 491, 492, 493,\n       494, 495, 496, 497, 498, 499, 500, 501, 502, 503, 504, 505, 506,\n       507, 508, 509, 510, 511, 512, 513, 514, 515, 516, 517, 518, 519,\n       520, 521, 522, 523, 524, 525, 526, 527, 528, 529, 530, 531, 532,\n       533, 534, 535, 536, 537, 538, 539, 540, 541, 542, 543, 544, 545,\n       546, 547, 548, 549, 550, 551, 552, 553, 554, 555, 556, 557, 558,\n       559, 560, 561, 562, 563, 564, 565, 566, 567, 568, 569, 570, 571,\n       572, 573, 574, 575, 576, 577, 578, 579, 580, 581, 582, 583, 584,\n       585, 586, 587, 588, 589, 590, 591, 592, 593, 594, 595, 596, 597,\n       598, 599, 600, 601, 602, 603, 604, 605, 606, 607, 608, 609, 610,\n       611, 612, 613, 614, 615, 616, 617, 618, 619, 620, 621, 622, 623,\n       624, 625, 626, 627, 628, 629, 630, 631, 632, 633, 634, 635, 636,\n       637, 638, 639, 640, 641, 642, 643, 644, 645, 646, 647, 648, 649,\n       650, 651, 652, 653, 654, 655, 656, 657, 658, 659, 660, 661, 662,\n       663, 664, 665, 666, 667, 668, 669, 670, 671, 672, 673, 674, 675,\n       676, 677, 678, 679, 680, 681, 682, 683, 684, 685, 686, 687, 688,\n       689, 690, 691, 692, 693, 694, 695, 696, 697, 698, 699, 700, 701,\n       702, 703, 704, 705, 706, 707, 708, 709, 710, 711, 712, 713, 714,\n       715, 716, 717, 718, 719, 720, 721, 722, 723, 724, 725, 726, 727,\n       728, 729, 730, 731, 732, 733, 734, 735, 736, 737, 738, 739, 740,\n       741, 742, 743, 744, 745, 746, 747, 748, 749, 750, 751, 752, 753,\n       754, 755, 756, 757, 758, 759, 760, 761, 762, 763, 764, 765, 766,\n       767, 768, 769, 770, 771, 772, 773, 774, 775, 776, 777, 778, 779,\n       780, 781, 782, 783, 784, 785, 786, 787, 788, 789, 790, 791, 792,\n       793, 794, 795, 796, 797, 798, 799, 800, 801, 802, 803, 804, 805,\n       806, 807, 808, 809, 810, 811, 812, 813, 814, 815, 816, 817, 818,\n       819, 820, 821, 822, 823, 824, 825, 826, 827, 828, 829, 830, 831,\n       832, 833, 834, 835, 836, 837, 838, 839, 840, 841, 842, 843, 844,\n       845, 846, 847, 848, 849, 850, 851, 852, 853, 854, 855, 856, 857,\n       858, 859, 860, 861, 862, 863, 864, 865, 866, 867, 868, 869, 870,\n       871, 872, 873, 874, 875, 876, 877, 878, 879, 880, 881, 882, 883,\n       884, 885, 886, 887, 888, 889, 890, 891, 892, 893, 894, 895, 896,\n       897, 898, 899, 900, 901, 902, 903, 904, 905, 906, 907, 908, 909,\n       910, 911, 912, 913, 914, 915, 916, 917, 918, 919, 920, 921, 922,\n       923, 924, 925, 926, 927, 928, 929, 930, 931, 932, 933, 934, 935,\n       936, 937, 938, 939, 940, 941, 942, 943, 944, 945, 946, 947, 948,\n       949, 950, 951, 952, 953, 954, 955, 956, 957, 958, 959, 960, 961,\n       962, 963, 964, 965, 966, 967, 968, 969, 970, 971, 972, 973, 974,\n       975, 976, 977, 978, 979, 980, 981, 982, 983, 984, 985, 986, 987,\n       988, 989, 990, 991, 992, 993, 994, 995, 996, 997, 998, 999])"
     },
     "metadata": {},
     "execution_count": 13
    }
   ],
   "source": [
    "# Creating an array with elements from 0 to 999\n",
    "arr1d = np.arange(1000)\n",
    "arr1d"
   ]
  },
  {
   "cell_type": "code",
   "execution_count": 14,
   "metadata": {},
   "outputs": [
    {
     "output_type": "execute_result",
     "data": {
      "text/plain": "array([[[  0,   1,   2,   3,   4,   5,   6,   7,   8,   9],\n        [ 10,  11,  12,  13,  14,  15,  16,  17,  18,  19],\n        [ 20,  21,  22,  23,  24,  25,  26,  27,  28,  29],\n        [ 30,  31,  32,  33,  34,  35,  36,  37,  38,  39],\n        [ 40,  41,  42,  43,  44,  45,  46,  47,  48,  49],\n        [ 50,  51,  52,  53,  54,  55,  56,  57,  58,  59],\n        [ 60,  61,  62,  63,  64,  65,  66,  67,  68,  69],\n        [ 70,  71,  72,  73,  74,  75,  76,  77,  78,  79],\n        [ 80,  81,  82,  83,  84,  85,  86,  87,  88,  89],\n        [ 90,  91,  92,  93,  94,  95,  96,  97,  98,  99]],\n\n       [[100, 101, 102, 103, 104, 105, 106, 107, 108, 109],\n        [110, 111, 112, 113, 114, 115, 116, 117, 118, 119],\n        [120, 121, 122, 123, 124, 125, 126, 127, 128, 129],\n        [130, 131, 132, 133, 134, 135, 136, 137, 138, 139],\n        [140, 141, 142, 143, 144, 145, 146, 147, 148, 149],\n        [150, 151, 152, 153, 154, 155, 156, 157, 158, 159],\n        [160, 161, 162, 163, 164, 165, 166, 167, 168, 169],\n        [170, 171, 172, 173, 174, 175, 176, 177, 178, 179],\n        [180, 181, 182, 183, 184, 185, 186, 187, 188, 189],\n        [190, 191, 192, 193, 194, 195, 196, 197, 198, 199]],\n\n       [[200, 201, 202, 203, 204, 205, 206, 207, 208, 209],\n        [210, 211, 212, 213, 214, 215, 216, 217, 218, 219],\n        [220, 221, 222, 223, 224, 225, 226, 227, 228, 229],\n        [230, 231, 232, 233, 234, 235, 236, 237, 238, 239],\n        [240, 241, 242, 243, 244, 245, 246, 247, 248, 249],\n        [250, 251, 252, 253, 254, 255, 256, 257, 258, 259],\n        [260, 261, 262, 263, 264, 265, 266, 267, 268, 269],\n        [270, 271, 272, 273, 274, 275, 276, 277, 278, 279],\n        [280, 281, 282, 283, 284, 285, 286, 287, 288, 289],\n        [290, 291, 292, 293, 294, 295, 296, 297, 298, 299]],\n\n       [[300, 301, 302, 303, 304, 305, 306, 307, 308, 309],\n        [310, 311, 312, 313, 314, 315, 316, 317, 318, 319],\n        [320, 321, 322, 323, 324, 325, 326, 327, 328, 329],\n        [330, 331, 332, 333, 334, 335, 336, 337, 338, 339],\n        [340, 341, 342, 343, 344, 345, 346, 347, 348, 349],\n        [350, 351, 352, 353, 354, 355, 356, 357, 358, 359],\n        [360, 361, 362, 363, 364, 365, 366, 367, 368, 369],\n        [370, 371, 372, 373, 374, 375, 376, 377, 378, 379],\n        [380, 381, 382, 383, 384, 385, 386, 387, 388, 389],\n        [390, 391, 392, 393, 394, 395, 396, 397, 398, 399]],\n\n       [[400, 401, 402, 403, 404, 405, 406, 407, 408, 409],\n        [410, 411, 412, 413, 414, 415, 416, 417, 418, 419],\n        [420, 421, 422, 423, 424, 425, 426, 427, 428, 429],\n        [430, 431, 432, 433, 434, 435, 436, 437, 438, 439],\n        [440, 441, 442, 443, 444, 445, 446, 447, 448, 449],\n        [450, 451, 452, 453, 454, 455, 456, 457, 458, 459],\n        [460, 461, 462, 463, 464, 465, 466, 467, 468, 469],\n        [470, 471, 472, 473, 474, 475, 476, 477, 478, 479],\n        [480, 481, 482, 483, 484, 485, 486, 487, 488, 489],\n        [490, 491, 492, 493, 494, 495, 496, 497, 498, 499]],\n\n       [[500, 501, 502, 503, 504, 505, 506, 507, 508, 509],\n        [510, 511, 512, 513, 514, 515, 516, 517, 518, 519],\n        [520, 521, 522, 523, 524, 525, 526, 527, 528, 529],\n        [530, 531, 532, 533, 534, 535, 536, 537, 538, 539],\n        [540, 541, 542, 543, 544, 545, 546, 547, 548, 549],\n        [550, 551, 552, 553, 554, 555, 556, 557, 558, 559],\n        [560, 561, 562, 563, 564, 565, 566, 567, 568, 569],\n        [570, 571, 572, 573, 574, 575, 576, 577, 578, 579],\n        [580, 581, 582, 583, 584, 585, 586, 587, 588, 589],\n        [590, 591, 592, 593, 594, 595, 596, 597, 598, 599]],\n\n       [[600, 601, 602, 603, 604, 605, 606, 607, 608, 609],\n        [610, 611, 612, 613, 614, 615, 616, 617, 618, 619],\n        [620, 621, 622, 623, 624, 625, 626, 627, 628, 629],\n        [630, 631, 632, 633, 634, 635, 636, 637, 638, 639],\n        [640, 641, 642, 643, 644, 645, 646, 647, 648, 649],\n        [650, 651, 652, 653, 654, 655, 656, 657, 658, 659],\n        [660, 661, 662, 663, 664, 665, 666, 667, 668, 669],\n        [670, 671, 672, 673, 674, 675, 676, 677, 678, 679],\n        [680, 681, 682, 683, 684, 685, 686, 687, 688, 689],\n        [690, 691, 692, 693, 694, 695, 696, 697, 698, 699]],\n\n       [[700, 701, 702, 703, 704, 705, 706, 707, 708, 709],\n        [710, 711, 712, 713, 714, 715, 716, 717, 718, 719],\n        [720, 721, 722, 723, 724, 725, 726, 727, 728, 729],\n        [730, 731, 732, 733, 734, 735, 736, 737, 738, 739],\n        [740, 741, 742, 743, 744, 745, 746, 747, 748, 749],\n        [750, 751, 752, 753, 754, 755, 756, 757, 758, 759],\n        [760, 761, 762, 763, 764, 765, 766, 767, 768, 769],\n        [770, 771, 772, 773, 774, 775, 776, 777, 778, 779],\n        [780, 781, 782, 783, 784, 785, 786, 787, 788, 789],\n        [790, 791, 792, 793, 794, 795, 796, 797, 798, 799]],\n\n       [[800, 801, 802, 803, 804, 805, 806, 807, 808, 809],\n        [810, 811, 812, 813, 814, 815, 816, 817, 818, 819],\n        [820, 821, 822, 823, 824, 825, 826, 827, 828, 829],\n        [830, 831, 832, 833, 834, 835, 836, 837, 838, 839],\n        [840, 841, 842, 843, 844, 845, 846, 847, 848, 849],\n        [850, 851, 852, 853, 854, 855, 856, 857, 858, 859],\n        [860, 861, 862, 863, 864, 865, 866, 867, 868, 869],\n        [870, 871, 872, 873, 874, 875, 876, 877, 878, 879],\n        [880, 881, 882, 883, 884, 885, 886, 887, 888, 889],\n        [890, 891, 892, 893, 894, 895, 896, 897, 898, 899]],\n\n       [[900, 901, 902, 903, 904, 905, 906, 907, 908, 909],\n        [910, 911, 912, 913, 914, 915, 916, 917, 918, 919],\n        [920, 921, 922, 923, 924, 925, 926, 927, 928, 929],\n        [930, 931, 932, 933, 934, 935, 936, 937, 938, 939],\n        [940, 941, 942, 943, 944, 945, 946, 947, 948, 949],\n        [950, 951, 952, 953, 954, 955, 956, 957, 958, 959],\n        [960, 961, 962, 963, 964, 965, 966, 967, 968, 969],\n        [970, 971, 972, 973, 974, 975, 976, 977, 978, 979],\n        [980, 981, 982, 983, 984, 985, 986, 987, 988, 989],\n        [990, 991, 992, 993, 994, 995, 996, 997, 998, 999]]])"
     },
     "metadata": {},
     "execution_count": 14
    }
   ],
   "source": [
    "# Now reshaping the array to a 10x10x10 3D Array\n",
    "arr3d = np.reshape(arr1d, (10, 10, 10))\n",
    "arr3d"
   ]
  },
  {
   "cell_type": "code",
   "execution_count": 15,
   "metadata": {},
   "outputs": [],
   "source": [
    "# The reshape command can alternatively be called this way\n",
    "arr3d = np.reshape(arr1d, (10, 10, 10))"
   ]
  },
  {
   "cell_type": "code",
   "execution_count": 16,
   "metadata": {},
   "outputs": [],
   "source": [
    "# Inversely, we can flatten arrays\n",
    "arr4d = np.zeros((10, 10, 10, 10))\n",
    "arr1d = arr4d.ravel()"
   ]
  },
  {
   "cell_type": "code",
   "execution_count": 17,
   "metadata": {},
   "outputs": [
    {
     "output_type": "execute_result",
     "data": {
      "text/plain": "(10000,)"
     },
     "metadata": {},
     "execution_count": 17
    }
   ],
   "source": [
    "arr1d.shape"
   ]
  },
  {
   "cell_type": "markdown",
   "metadata": {},
   "source": [
    "the restructured arrays above are just different views of the same data in memory. This means if you modify one of the arrays, it will modify the others.\n",
    "\n",
    "For example, if you set the first element of arr1d from the example above to be 1, then the first element of arr3d will also become 1. \n",
    "\n",
    "If you don't want this to happen, then use the **numpy.copy** function to separate the arrays memory-wise"
   ]
  },
  {
   "cell_type": "markdown",
   "metadata": {},
   "source": [
    "# 2.1.2 Record Arrays\n",
    "\n",
    "Arrays are good for integers and floats but sometimes we need to use more complex data structures where columns are composed of different data types. \n",
    "\n",
    "In research journal publications, tables are commonly structured so that some columns may have string characters for identification and floats for numerical quantities. Being able to store this type of information is very beneficial. In NumPy, there is the **np.recarray()**\n",
    "\n",
    "Constructing a **recarray** for the first time can be confusing so we'll go over the basics first. "
   ]
  },
  {
   "cell_type": "code",
   "execution_count": 20,
   "metadata": {},
   "outputs": [
    {
     "output_type": "execute_result",
     "data": {
      "text/plain": "array([(1, 2., b'Hello'), (2, 3., b'World')],\n      dtype=[('f0', '<i4'), ('f1', '<f4'), ('f2', 'S10')])"
     },
     "metadata": {},
     "execution_count": 20
    }
   ],
   "source": [
    "# Creating an array of zeros and defining the column types\n",
    "recarr = np.zeros((2, ), dtype = ('i4, f4, a10'))\n",
    "toadd = [(1, 2., 'Hello'), (2, 3., 'World')]\n",
    "recarr[:] = toadd\n",
    "recarr"
   ]
  },
  {
   "cell_type": "markdown",
   "metadata": {},
   "source": [
    "the dtype optional argument is defining the types designated for the first to third columns, where:\n",
    " i4 corresponds to a 32-bit integer\n",
    " f4 corresponds to a 32-bit float\n",
    " a10 corresponds to a string 10 characters long\n",
    "\n",
    "Details on how to define more types can be found in NumPy documnetation. This example illustrates what the recarray looks like:\n",
    "\n",
    "(Its hard to see how we could populate such an array easily. Thankfully, Python has a global function called zip that will create a list of typles like we see above for the toadd object. We can show how to use zip to populate the same recarray)"
   ]
  },
  {
   "cell_type": "code",
   "execution_count": 29,
   "metadata": {},
   "outputs": [],
   "source": [
    "# Creating an array of zeros and defining column types\n",
    "recarr = np.zeros((2, ), dtype=('i4, f4, a10'))\n",
    "\n",
    "# Now creating the columns we want to put in the recarray\n",
    "col1 = np.arange(2) + 1\n",
    "col2 = np.arange(2, dtype = np.float32)\n",
    "col3 = ['Hello', 'World']\n",
    "\n",
    "# Here we create a list of tuples that is identical to the previous toadd list\n",
    "toadd = list(zip(col1, col2, col3)) # added list() because zip() alone wasn't working\n",
    "\n",
    "# Assigning values to recarr\n",
    "recarr[:] = toadd"
   ]
  },
  {
   "cell_type": "code",
   "execution_count": 28,
   "metadata": {},
   "outputs": [
    {
     "output_type": "execute_result",
     "data": {
      "text/plain": "array([1, 2])"
     },
     "metadata": {},
     "execution_count": 28
    }
   ],
   "source": [
    "# Assigning names to each column, which are now by default called 'f0', 'f1', 'f2'\n",
    "recarr.dtype.names = ('Integers', 'Floats', 'Strings')\n",
    "\n",
    "# If we want to access one of the columns by its name, we can do the following\n",
    "recarr['Integers'] # Changed this to brackets instead of parenthesis \n",
    ""
   ]
  },
  {
   "cell_type": "markdown",
   "metadata": {},
   "source": [
    "# 2.1.3 Indexing and Slicing"
   ]
  },
  {
   "cell_type": "markdown",
   "metadata": {},
   "source": [
    "Python index begins at zero and the NumPy arrays follow that. \n",
    "When indexing lists in Python, we normally do the following for a 2 x 2 object: "
   ]
  },
  {
   "cell_type": "code",
   "execution_count": 31,
   "metadata": {},
   "outputs": [
    {
     "output_type": "execute_result",
     "data": {
      "text/plain": "2"
     },
     "metadata": {},
     "execution_count": 31
    }
   ],
   "source": [
    "alist = [[1,2], [3,4]]\n",
    "\n",
    "# To return the (0,1) element we must index as shown below\n",
    "alist[0][1]"
   ]
  },
  {
   "cell_type": "markdown",
   "metadata": {},
   "source": [
    "If we want to return the right-hand column in NumPy indexing follows a more convenient syntax"
   ]
  },
  {
   "cell_type": "code",
   "execution_count": 33,
   "metadata": {},
   "outputs": [
    {
     "output_type": "execute_result",
     "data": {
      "text/plain": "array([3, 4])"
     },
     "metadata": {},
     "execution_count": 33
    }
   ],
   "source": [
    "# Converting the list defined above into an array\n",
    "arr = np.array(alist)\n",
    "\n",
    "# To return the (0,1) element we use ...\n",
    "arr[0 , 1]\n",
    "\n",
    "# Now to acces the last column, we simply use ...\n",
    "arr[: , 1]\n",
    "\n",
    "# Accessing the columns is achieved in the same way, \n",
    "#  which is the bottom row\n",
    "arr[1 , :]"
   ]
  },
  {
   "cell_type": "markdown",
   "metadata": {},
   "source": [
    "Sometimes there are more complexs indexing schemes required. Such as conditional indexing. The most commonly used type is **numpy.where()** with this function you can return the desired indices from an array, regardless of its dimensions, based on some condition(s)"
   ]
  },
  {
   "cell_type": "code",
   "execution_count": 34,
   "metadata": {},
   "outputs": [
    {
     "output_type": "execute_result",
     "data": {
      "text/plain": "(array([3, 4], dtype=int64),)"
     },
     "metadata": {},
     "execution_count": 34
    }
   ],
   "source": [
    "# Creating an array\n",
    "arr = np.arange(5)\n",
    "\n",
    "# Creating the index array\n",
    "index = np.where(arr > 2)\n",
    "index"
   ]
  },
  {
   "cell_type": "code",
   "execution_count": 36,
   "metadata": {},
   "outputs": [
    {
     "output_type": "execute_result",
     "data": {
      "text/plain": "array([3, 4])"
     },
     "metadata": {},
     "execution_count": 36
    }
   ],
   "source": [
    "# Creating the desired array\n",
    "new_arr = arr[index]\n",
    "new_arr"
   ]
  },
  {
   "cell_type": "markdown",
   "metadata": {},
   "source": [
    "However, you may want to remove specific indices instead. To do this you can use **numpy.delete()** The required inputs are the array and indices that you want to remove"
   ]
  },
  {
   "cell_type": "code",
   "execution_count": 37,
   "metadata": {},
   "outputs": [
    {
     "output_type": "execute_result",
     "data": {
      "text/plain": "array([0, 1, 2])"
     },
     "metadata": {},
     "execution_count": 37
    }
   ],
   "source": [
    "# We use the previous array\n",
    "new_arr = np.delete(arr, index)\n",
    "new_arr"
   ]
  },
  {
   "cell_type": "markdown",
   "metadata": {},
   "source": [
    "Instead of using the **numpy.where()** function, we can use a simple boolean array to return specific elements"
   ]
  },
  {
   "cell_type": "code",
   "execution_count": 38,
   "metadata": {},
   "outputs": [
    {
     "output_type": "stream",
     "name": "stdout",
     "text": "[False False False  True  True]\n"
    }
   ],
   "source": [
    "index = arr > 2\n",
    "print(index)"
   ]
  },
  {
   "cell_type": "code",
   "execution_count": 40,
   "metadata": {},
   "outputs": [
    {
     "output_type": "execute_result",
     "data": {
      "text/plain": "array([3, 4])"
     },
     "metadata": {},
     "execution_count": 40
    }
   ],
   "source": [
    "new_arr = arr[index]\n",
    "new_arr"
   ]
  },
  {
   "cell_type": "markdown",
   "metadata": {},
   "source": [
    "## Which method is faster? \n",
    "Boolean indexing is faster for a large number of elements. Additionally, you can easily invert True and False objects in an array by '~ index' a technique that is far faster than redoing the **numpy.where()** function"
   ]
  },
  {
   "cell_type": "code",
   "execution_count": 41,
   "metadata": {},
   "outputs": [
    {
     "output_type": "execute_result",
     "data": {
      "text/plain": "array([0, 1, 2])"
     },
     "metadata": {},
     "execution_count": 41
    }
   ],
   "source": [
    "new = arr[~index]\n",
    "new"
   ]
  },
  {
   "cell_type": "markdown",
   "metadata": {},
   "source": [
    "# 2.2 Boolean Statements and NumPy Arrays"
   ]
  },
  {
   "cell_type": "code",
   "execution_count": null,
   "metadata": {},
   "outputs": [],
   "source": []
  }
 ],
 "metadata": {
  "kernelspec": {
   "display_name": "Python 3",
   "language": "python",
   "name": "python3"
  },
  "language_info": {
   "codemirror_mode": {
    "name": "ipython",
    "version": 3
   },
   "file_extension": ".py",
   "mimetype": "text/x-python",
   "name": "python",
   "nbconvert_exporter": "python",
   "pygments_lexer": "ipython3",
   "version": "3.7.4-final"
  },
  "varInspector": {
   "cols": {
    "lenName": 16,
    "lenType": 16,
    "lenVar": 40
   },
   "kernels_config": {
    "python": {
     "delete_cmd_postfix": "",
     "delete_cmd_prefix": "del ",
     "library": "var_list.py",
     "varRefreshCmd": "print(var_dic_list())"
    },
    "r": {
     "delete_cmd_postfix": ") ",
     "delete_cmd_prefix": "rm(",
     "library": "var_list.r",
     "varRefreshCmd": "cat(var_dic_list()) "
    }
   },
   "types_to_exclude": [
    "module",
    "function",
    "builtin_function_or_method",
    "instance",
    "_Feature"
   ],
   "window_display": false
  }
 },
 "nbformat": 4,
 "nbformat_minor": 4
}